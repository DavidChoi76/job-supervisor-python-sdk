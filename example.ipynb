{
 "cells": [
  {
   "cell_type": "markdown",
   "metadata": {},
   "source": [
    "# Reproducible Hydrological Modeling with CyberGIS-Jupyter For Water (CJW) and HydroShare Using Job Supervisor Submission Service"
   ]
  },
  {
   "cell_type": "code",
   "execution_count": 1,
   "metadata": {},
   "outputs": [
    {
     "name": "stdout",
     "output_type": "stream",
     "text": [
      "Downloading Data\n",
      "Done\n"
     ]
    }
   ],
   "source": [
    "resource_id = '1f3f310af8364d2aa3e6a9459152a21c'\n",
    "\n",
    "import json\n",
    "import os\n",
    "import subprocess\n",
    "from hs_restclient import HydroShare, HydroShareAuthBasic\n",
    "\n",
    "auth = HydroShareAuthBasic(\"cybergis\", \"demo\")\n",
    "hs = HydroShare(auth=auth)\n",
    "\n",
    "base_dir = os.getcwd() + '/example'\n",
    "\n",
    "print(\"Downloading Data\")\n",
    "hs.getResource(resource_id, destination=base_dir, unzip=True)\n",
    "print(\"Done\")"
   ]
  },
  {
   "cell_type": "code",
   "execution_count": 2,
   "metadata": {},
   "outputs": [
    {
     "name": "stdout",
     "output_type": "stream",
     "text": [
      "Archive:  SummaModel_ReynoldsAspenStand_StomatalResistance_sopron.zip\n",
      "   creating: /Users/erichsiao/Documents/Project/CyberGIS/job-supervisor-python-sdk/example/workspace/tmpzs675wvk/SummaModel_ReynoldsAspenStand_StomatalResistance_sopron/\n",
      "   creating: /Users/erichsiao/Documents/Project/CyberGIS/job-supervisor-python-sdk/example/workspace/tmpzs675wvk/SummaModel_ReynoldsAspenStand_StomatalResistance_sopron/data/\n",
      "   creating: /Users/erichsiao/Documents/Project/CyberGIS/job-supervisor-python-sdk/example/workspace/tmpzs675wvk/SummaModel_ReynoldsAspenStand_StomatalResistance_sopron/data/forcingData/\n",
      "  inflating: /Users/erichsiao/Documents/Project/CyberGIS/job-supervisor-python-sdk/example/workspace/tmpzs675wvk/SummaModel_ReynoldsAspenStand_StomatalResistance_sopron/data/forcingData/forcing_above_aspen.nc  \n",
      "  inflating: /Users/erichsiao/Documents/Project/CyberGIS/job-supervisor-python-sdk/example/workspace/tmpzs675wvk/SummaModel_ReynoldsAspenStand_StomatalResistance_sopron/data/reynolds_geojson_latlon.geojson  \n",
      "   creating: /Users/erichsiao/Documents/Project/CyberGIS/job-supervisor-python-sdk/example/workspace/tmpzs675wvk/SummaModel_ReynoldsAspenStand_StomatalResistance_sopron/data/validationData/\n",
      "  inflating: /Users/erichsiao/Documents/Project/CyberGIS/job-supervisor-python-sdk/example/workspace/tmpzs675wvk/SummaModel_ReynoldsAspenStand_StomatalResistance_sopron/data/validationData/ReynoldsCreek_eddyFlux.nc  \n",
      "  inflating: /Users/erichsiao/Documents/Project/CyberGIS/job-supervisor-python-sdk/example/workspace/tmpzs675wvk/SummaModel_ReynoldsAspenStand_StomatalResistance_sopron/installTestCases_local.sh  \n",
      "   creating: /Users/erichsiao/Documents/Project/CyberGIS/job-supervisor-python-sdk/example/workspace/tmpzs675wvk/SummaModel_ReynoldsAspenStand_StomatalResistance_sopron/output/\n",
      "   creating: /Users/erichsiao/Documents/Project/CyberGIS/job-supervisor-python-sdk/example/workspace/tmpzs675wvk/SummaModel_ReynoldsAspenStand_StomatalResistance_sopron/settings/\n",
      "  inflating: /Users/erichsiao/Documents/Project/CyberGIS/job-supervisor-python-sdk/example/workspace/tmpzs675wvk/SummaModel_ReynoldsAspenStand_StomatalResistance_sopron/settings/GENPARM.TBL  \n",
      "   creating: /Users/erichsiao/Documents/Project/CyberGIS/job-supervisor-python-sdk/example/workspace/tmpzs675wvk/SummaModel_ReynoldsAspenStand_StomatalResistance_sopron/settings/meta/\n",
      "  inflating: /Users/erichsiao/Documents/Project/CyberGIS/job-supervisor-python-sdk/example/workspace/tmpzs675wvk/SummaModel_ReynoldsAspenStand_StomatalResistance_sopron/settings/meta/dos2unix.sh  \n",
      "  inflating: /Users/erichsiao/Documents/Project/CyberGIS/job-supervisor-python-sdk/example/workspace/tmpzs675wvk/SummaModel_ReynoldsAspenStand_StomatalResistance_sopron/settings/meta/Model_Output.txt  \n",
      "  inflating: /Users/erichsiao/Documents/Project/CyberGIS/job-supervisor-python-sdk/example/workspace/tmpzs675wvk/SummaModel_ReynoldsAspenStand_StomatalResistance_sopron/settings/meta/summa_zBasinModelVarMeta.txt  \n",
      "  inflating: /Users/erichsiao/Documents/Project/CyberGIS/job-supervisor-python-sdk/example/workspace/tmpzs675wvk/SummaModel_ReynoldsAspenStand_StomatalResistance_sopron/settings/meta/summa_zBasinParamMeta.txt  \n",
      "  inflating: /Users/erichsiao/Documents/Project/CyberGIS/job-supervisor-python-sdk/example/workspace/tmpzs675wvk/SummaModel_ReynoldsAspenStand_StomatalResistance_sopron/settings/meta/summa_zCategoryMeta.txt  \n",
      "  inflating: /Users/erichsiao/Documents/Project/CyberGIS/job-supervisor-python-sdk/example/workspace/tmpzs675wvk/SummaModel_ReynoldsAspenStand_StomatalResistance_sopron/settings/meta/summa_zForceMeta.txt  \n",
      "  inflating: /Users/erichsiao/Documents/Project/CyberGIS/job-supervisor-python-sdk/example/workspace/tmpzs675wvk/SummaModel_ReynoldsAspenStand_StomatalResistance_sopron/settings/meta/summa_zLocalAttributeMeta.txt  \n",
      "  inflating: /Users/erichsiao/Documents/Project/CyberGIS/job-supervisor-python-sdk/example/workspace/tmpzs675wvk/SummaModel_ReynoldsAspenStand_StomatalResistance_sopron/settings/meta/summa_zLocalModelIndexMeta.txt  \n",
      "  inflating: /Users/erichsiao/Documents/Project/CyberGIS/job-supervisor-python-sdk/example/workspace/tmpzs675wvk/SummaModel_ReynoldsAspenStand_StomatalResistance_sopron/settings/meta/summa_zLocalModelVarMeta.txt  \n",
      "  inflating: /Users/erichsiao/Documents/Project/CyberGIS/job-supervisor-python-sdk/example/workspace/tmpzs675wvk/SummaModel_ReynoldsAspenStand_StomatalResistance_sopron/settings/meta/summa_zLocalParamMeta.txt  \n",
      "  inflating: /Users/erichsiao/Documents/Project/CyberGIS/job-supervisor-python-sdk/example/workspace/tmpzs675wvk/SummaModel_ReynoldsAspenStand_StomatalResistance_sopron/settings/meta/summa_zModelIndexMeta.txt  \n",
      "  inflating: /Users/erichsiao/Documents/Project/CyberGIS/job-supervisor-python-sdk/example/workspace/tmpzs675wvk/SummaModel_ReynoldsAspenStand_StomatalResistance_sopron/settings/meta/summa_zParamMeta.txt  \n",
      "  inflating: /Users/erichsiao/Documents/Project/CyberGIS/job-supervisor-python-sdk/example/workspace/tmpzs675wvk/SummaModel_ReynoldsAspenStand_StomatalResistance_sopron/settings/meta/summa_zTimeMeta.txt  \n",
      "  inflating: /Users/erichsiao/Documents/Project/CyberGIS/job-supervisor-python-sdk/example/workspace/tmpzs675wvk/SummaModel_ReynoldsAspenStand_StomatalResistance_sopron/settings/meta/var_lookup.f90  \n",
      "  inflating: /Users/erichsiao/Documents/Project/CyberGIS/job-supervisor-python-sdk/example/workspace/tmpzs675wvk/SummaModel_ReynoldsAspenStand_StomatalResistance_sopron/settings/MPTABLE.TBL  \n",
      "  inflating: /Users/erichsiao/Documents/Project/CyberGIS/job-supervisor-python-sdk/example/workspace/tmpzs675wvk/SummaModel_ReynoldsAspenStand_StomatalResistance_sopron/settings/SOILPARM.TBL  \n",
      "  inflating: /Users/erichsiao/Documents/Project/CyberGIS/job-supervisor-python-sdk/example/workspace/tmpzs675wvk/SummaModel_ReynoldsAspenStand_StomatalResistance_sopron/settings/summa_fileManager_riparianAspenSimpleResistance.txt  \n",
      "  inflating: /Users/erichsiao/Documents/Project/CyberGIS/job-supervisor-python-sdk/example/workspace/tmpzs675wvk/SummaModel_ReynoldsAspenStand_StomatalResistance_sopron/settings/summa_zBasinParamInfo.txt  \n",
      "  inflating: /Users/erichsiao/Documents/Project/CyberGIS/job-supervisor-python-sdk/example/workspace/tmpzs675wvk/SummaModel_ReynoldsAspenStand_StomatalResistance_sopron/settings/summa_zDecisions_riparianAspenSimpleResistance.txt  \n",
      "  inflating: /Users/erichsiao/Documents/Project/CyberGIS/job-supervisor-python-sdk/example/workspace/tmpzs675wvk/SummaModel_ReynoldsAspenStand_StomatalResistance_sopron/settings/summa_zForcingFileList_riparianAspen.txt  \n",
      "  inflating: /Users/erichsiao/Documents/Project/CyberGIS/job-supervisor-python-sdk/example/workspace/tmpzs675wvk/SummaModel_ReynoldsAspenStand_StomatalResistance_sopron/settings/summa_zForcingInfo_riparianAspen.txt  \n",
      "  inflating: /Users/erichsiao/Documents/Project/CyberGIS/job-supervisor-python-sdk/example/workspace/tmpzs675wvk/SummaModel_ReynoldsAspenStand_StomatalResistance_sopron/settings/summa_zInitialCond.nc  \n",
      "  inflating: /Users/erichsiao/Documents/Project/CyberGIS/job-supervisor-python-sdk/example/workspace/tmpzs675wvk/SummaModel_ReynoldsAspenStand_StomatalResistance_sopron/settings/summa_zLocalAttributes_riparianAspen.nc  \n",
      "  inflating: /Users/erichsiao/Documents/Project/CyberGIS/job-supervisor-python-sdk/example/workspace/tmpzs675wvk/SummaModel_ReynoldsAspenStand_StomatalResistance_sopron/settings/summa_zLocalParamInfo.txt  \n",
      "  inflating: /Users/erichsiao/Documents/Project/CyberGIS/job-supervisor-python-sdk/example/workspace/tmpzs675wvk/SummaModel_ReynoldsAspenStand_StomatalResistance_sopron/settings/summa_zParamTrial_riparianAspen.nc  \n",
      "  inflating: /Users/erichsiao/Documents/Project/CyberGIS/job-supervisor-python-sdk/example/workspace/tmpzs675wvk/SummaModel_ReynoldsAspenStand_StomatalResistance_sopron/settings/VEGPARM.TBL  \n",
      "Unzipping Done\n"
     ]
    }
   ],
   "source": [
    "import tempfile\n",
    "\n",
    "#Unzip model file\n",
    "model_folder_name = \"SummaModel_ReynoldsAspenStand_StomatalResistance_sopron\"\n",
    "content_folder = os.path.join(base_dir ,\"{}/{}/data/contents\".format(resource_id, resource_id))\n",
    "workspace_dir = os.path.join(base_dir, 'workspace')\n",
    "!mkdir -p {workspace_dir}\n",
    "unzip_dir = tempfile.mkdtemp(dir=workspace_dir)\n",
    "!cd {content_folder} && unzip -o {model_folder_name}.zip -d {unzip_dir}\n",
    "print(\"Unzipping Done\")"
   ]
  },
  {
   "cell_type": "code",
   "execution_count": 3,
   "metadata": {},
   "outputs": [
    {
     "name": "stdout",
     "output_type": "stream",
     "text": [
      "TestCases installed\r\n"
     ]
    }
   ],
   "source": [
    "model_source_folder_path = os.path.join(unzip_dir, model_folder_name)\n",
    "!cd {model_source_folder_path} && chmod +x ./installTestCases_local.sh\n",
    "!cd {model_source_folder_path} && ./installTestCases_local.sh"
   ]
  },
  {
   "cell_type": "code",
   "execution_count": 4,
   "metadata": {},
   "outputs": [
    {
     "name": "stdout",
     "output_type": "stream",
     "text": [
      "/Users/erichsiao/Documents/Project/CyberGIS/job-supervisor-python-sdk/example/workspace/tmpzs675wvk/SummaModel_ReynoldsAspenStand_StomatalResistance_sopron/settings/summa_zParamTrial_riparianAspen.nc\n"
     ]
    }
   ],
   "source": [
    "# Create a empty ParamTrial.nc file (required by parameter ensemble)\n",
    "import netCDF4 as nc\n",
    "name = os.path.join(model_source_folder_path, 'settings/summa_zParamTrial_riparianAspen.nc')\n",
    "print(name)\n",
    "param_trial = nc.Dataset(name, \"w\", format=\"NETCDF3_CLASSIC\")\n",
    "param_trial.createDimension(\"hru\", 1)\n",
    "param_trial.close()"
   ]
  },
  {
   "cell_type": "code",
   "execution_count": 5,
   "metadata": {},
   "outputs": [
    {
     "name": "stdout",
     "output_type": "stream",
     "text": [
      "Number of ensemble runs: 75\n",
      "{\n",
      "    \"++BallBerry++rootDistExp=0.01++summerLAI=0.01++\": {\n",
      "        \"attributes\": {},\n",
      "        \"decisions\": {\n",
      "            \"stomResist\": \"BallBerry\"\n",
      "        },\n",
      "        \"parameters\": {\n",
      "            \"rootDistExp\": 0.01,\n",
      "            \"summerLAI\": 0.01\n",
      "        },\n",
      "        \"trial_parameters\": {}\n",
      "    },\n",
      "    \"++BallBerry++rootDistExp=0.01++summerLAI=2.01++\": {\n",
      "        \"attributes\": {},\n",
      "        \"decisions\": {\n",
      "            \"stomResist\": \"BallBerry\"\n",
      "        },\n",
      "        \"parameters\": {\n",
      "            \"rootDistExp\": 0.01,\n",
      "            \"summerLAI\": 2.01\n",
      "        },\n",
      "        \"trial_parameters\": {}\n",
      "    },\n",
      "    \"++BallBerry++rootDistExp=0.01++summerLAI=4.01++\": {\n",
      "        \"attributes\": {},\n",
      "        \"decisions\": {\n",
      "            \"stomResist\": \"BallBerry\"\n",
      "        },\n",
      "        \"parameters\": {\n",
      "            \"rootDistExp\": 0.01,\n",
      "    \n",
      "...\n"
     ]
    }
   ],
   "source": [
    "import numpy as np\n",
    "import json\n",
    "from pysumma import ensemble\n",
    "\n",
    "def safe_arange(start, stop, step):\n",
    "    a = np.arange(start, stop, step)\n",
    "    result =[]\n",
    "    for i in a:\n",
    "        par = round(i, 10)\n",
    "        result = np.append(result, par)\n",
    "    return result\n",
    "\n",
    "# create ensemble\n",
    "# different parameterizations\n",
    "decision_options = {\n",
    "    \"stomResist\": [\"BallBerry\", \"Jarvis\", \"simpleResistance\"]\n",
    "}\n",
    "# different parameters\n",
    "param_options = {\n",
    "   'rootDistExp': safe_arange(0.01, 1.00, 0.20),\n",
    "   'summerLAI': safe_arange(0.01, 10.00, 2.00)\n",
    "}\n",
    "\n",
    "config = ensemble.total_product(dec_conf=decision_options, param_conf=param_options)\n",
    "\n",
    "# save ensemble info to json file\n",
    "with open(os.path.join(model_source_folder_path, 'summa_options.json'), 'w') as outfile:\n",
    "    json.dump(config, outfile)\n",
    "\n",
    "# check ensemble parameters    \n",
    "print(\"Number of ensemble runs: {}\".format(len(config)))\n",
    "print(json.dumps(config, indent=4, sort_keys=True)[:800])\n",
    "print(\"...\")"
   ]
  },
  {
   "cell_type": "code",
   "execution_count": 6,
   "metadata": {},
   "outputs": [],
   "source": [
    "from job_supervisor_client import *\n",
    "\n",
    "communitySummaUser = User('summa', isJupyter=True)"
   ]
  },
  {
   "cell_type": "code",
   "execution_count": 17,
   "metadata": {},
   "outputs": [],
   "source": [
    "communitySummaJob = communitySummaUser.job() # create new job"
   ]
  },
  {
   "cell_type": "code",
   "execution_count": 8,
   "metadata": {},
   "outputs": [
    {
     "data": {
      "text/plain": [
       "{'file': '1598324718i6dd'}"
      ]
     },
     "execution_count": 8,
     "metadata": {},
     "output_type": "execute_result"
    }
   ],
   "source": [
    "communitySummaJob.upload(model_source_folder_path)"
   ]
  },
  {
   "cell_type": "code",
   "execution_count": 9,
   "metadata": {},
   "outputs": [
    {
     "name": "stdout",
     "output_type": "stream",
     "text": [
      "✅ job registered with ID: 1598324720mUdc\n"
     ]
    },
    {
     "data": {
      "text/plain": [
       "<job_supervisor_client.Job.Job at 0x122c9bdd0>"
      ]
     },
     "execution_count": 9,
     "metadata": {},
     "output_type": "execute_result"
    }
   ],
   "source": [
    "communitySummaJob.submit()"
   ]
  },
  {
   "cell_type": "code",
   "execution_count": 16,
   "metadata": {
    "scrolled": true
   },
   "outputs": [
    {
     "name": "stdout",
     "output_type": "stream",
     "text": [
      "📮Job ID: 1598324720mUdc\n",
      "📍Destination: summa\n",
      "\n"
     ]
    },
    {
     "data": {
      "text/html": [
       "<table>\n",
       "<thead>\n",
       "<tr><th>types              </th><th>message                                                                           </th><th>time                    </th></tr>\n",
       "</thead>\n",
       "<tbody>\n",
       "<tr><td>JOB_QUEUED         </td><td>job [1598324720mUdc] is queued, waiting for registration                          </td><td>2020-08-25T03:05:20.363Z</td></tr>\n",
       "<tr><td>JOB_REGISTERED     </td><td>job [1598324720mUdc] is registered with the supervisor, waiting for initialization</td><td>2020-08-25T03:05:21.148Z</td></tr>\n",
       "<tr><td>SUMMA_HPC_CONNECTED</td><td>connected to HPC                                                                  </td><td>2020-08-25T03:05:31.677Z</td></tr>\n",
       "<tr><td>SUMMA_HPC_SUBMITTED</td><td>submitted SUMMA job to HPC                                                        </td><td>2020-08-25T03:05:31.677Z</td></tr>\n",
       "<tr><td>JOB_INITIALIZED    </td><td>initialized SUMMA job in HPC job queue with remote_id 3597947                     </td><td>2020-08-25T03:05:31.677Z</td></tr>\n",
       "<tr><td>JOB_ENDED          </td><td>SUMMA job with remote_id 3597947 completed                                        </td><td>2020-08-25T03:06:48.662Z</td></tr>\n",
       "</tbody>\n",
       "</table>"
      ],
      "text/plain": [
       "<IPython.core.display.HTML object>"
      ]
     },
     "metadata": {},
     "output_type": "display_data"
    }
   ],
   "source": [
    "communitySummaJob.events(liveOutput=True)"
   ]
  },
  {
   "cell_type": "code",
   "execution_count": 11,
   "metadata": {},
   "outputs": [
    {
     "data": {
      "text/plain": [
       "{'1598324720mUdc': [{'type': 'JOB_QUEUED',\n",
       "   'message': 'job [1598324720mUdc] is queued, waiting for registration',\n",
       "   'at': '2020-08-25T03:05:20.363Z'},\n",
       "  {'type': 'JOB_REGISTERED',\n",
       "   'message': 'job [1598324720mUdc] is registered with the supervisor, waiting for initialization',\n",
       "   'at': '2020-08-25T03:05:21.148Z'},\n",
       "  {'type': 'SUMMA_HPC_CONNECTED',\n",
       "   'message': 'connected to HPC',\n",
       "   'at': '2020-08-25T03:05:31.677Z'},\n",
       "  {'type': 'SUMMA_HPC_SUBMITTED',\n",
       "   'message': 'submitted SUMMA job to HPC',\n",
       "   'at': '2020-08-25T03:05:31.677Z'},\n",
       "  {'type': 'JOB_INITIALIZED',\n",
       "   'message': 'initialized SUMMA job in HPC job queue with remote_id 3597947',\n",
       "   'at': '2020-08-25T03:05:31.677Z'},\n",
       "  {'type': 'JOB_ENDED',\n",
       "   'message': 'SUMMA job with remote_id 3597947 completed',\n",
       "   'at': '2020-08-25T03:06:48.662Z'}]}"
      ]
     },
     "execution_count": 11,
     "metadata": {},
     "output_type": "execute_result"
    }
   ],
   "source": [
    "communitySummaUser.events() # get all jobs under this user"
   ]
  },
  {
   "cell_type": "code",
   "execution_count": 12,
   "metadata": {},
   "outputs": [],
   "source": [
    "import os\n",
    "\n",
    "communitySummaJob.download(os.getcwd())"
   ]
  },
  {
   "cell_type": "code",
   "execution_count": 15,
   "metadata": {},
   "outputs": [
    {
     "data": {
      "text/plain": [
       "[{'type': 'JOB_QUEUED',\n",
       "  'message': 'job [1598324720mUdc] is queued, waiting for registration',\n",
       "  'at': '2020-08-25T03:05:20.363Z'},\n",
       " {'type': 'JOB_REGISTERED',\n",
       "  'message': 'job [1598324720mUdc] is registered with the supervisor, waiting for initialization',\n",
       "  'at': '2020-08-25T03:05:21.148Z'},\n",
       " {'type': 'SUMMA_HPC_CONNECTED',\n",
       "  'message': 'connected to HPC',\n",
       "  'at': '2020-08-25T03:05:31.677Z'},\n",
       " {'type': 'SUMMA_HPC_SUBMITTED',\n",
       "  'message': 'submitted SUMMA job to HPC',\n",
       "  'at': '2020-08-25T03:05:31.677Z'},\n",
       " {'type': 'JOB_INITIALIZED',\n",
       "  'message': 'initialized SUMMA job in HPC job queue with remote_id 3597947',\n",
       "  'at': '2020-08-25T03:05:31.677Z'},\n",
       " {'type': 'JOB_ENDED',\n",
       "  'message': 'SUMMA job with remote_id 3597947 completed',\n",
       "  'at': '2020-08-25T03:06:48.662Z'}]"
      ]
     },
     "execution_count": 15,
     "metadata": {},
     "output_type": "execute_result"
    }
   ],
   "source": [
    "communitySummaJob2 = communitySummaUser.job('1598324720mUdc') # recreate job obj\n",
    "communitySummaJob2.events()"
   ]
  }
 ],
 "metadata": {
  "kernelspec": {
   "display_name": "Python 3.7.4 64-bit ('base': conda)",
   "language": "python",
   "name": "python37464bitbasecondab8af6ecaa77846fd96103654a7fd0c82"
  },
  "language_info": {
   "codemirror_mode": {
    "name": "ipython",
    "version": 3
   },
   "file_extension": ".py",
   "mimetype": "text/x-python",
   "name": "python",
   "nbconvert_exporter": "python",
   "pygments_lexer": "ipython3",
   "version": "3.7.4"
  }
 },
 "nbformat": 4,
 "nbformat_minor": 4
}

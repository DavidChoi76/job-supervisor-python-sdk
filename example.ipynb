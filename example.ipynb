{
 "cells": [
  {
   "cell_type": "markdown",
   "metadata": {},
   "source": [
    "# Reproducible Hydrological Modeling with CyberGIS-Jupyter For Water (CJW) and HydroShare Using Job Supervisor Submission Service"
   ]
  },
  {
   "cell_type": "code",
   "execution_count": 3,
   "metadata": {
    "tags": []
   },
   "outputs": [
    {
     "output_type": "stream",
     "name": "stdout",
     "text": "Downloading Data\nDone\n"
    }
   ],
   "source": [
    "resource_id = '1f3f310af8364d2aa3e6a9459152a21c'\n",
    "\n",
    "import json\n",
    "import os\n",
    "import subprocess\n",
    "from hs_restclient import HydroShare, HydroShareAuthBasic\n",
    "\n",
    "auth = HydroShareAuthBasic(\"cybergis\", \"demo\")\n",
    "hs = HydroShare(auth=auth)\n",
    "\n",
    "base_dir = os.getcwd() + '/example'\n",
    "\n",
    "print(\"Downloading Data\")\n",
    "hs.getResource(resource_id, destination=base_dir, unzip=True)\n",
    "print(\"Done\")"
   ]
  },
  {
   "cell_type": "code",
   "execution_count": 4,
   "metadata": {
    "tags": []
   },
   "outputs": [
    {
     "output_type": "stream",
     "name": "stdout",
     "text": "Archive:  SummaModel_ReynoldsAspenStand_StomatalResistance_sopron.zip\n   creating: /Users/erichsiao/Documents/Project/CyberGIS/job-supervisor-python-sdk/example/workspace/tmp5jlvuuxk/SummaModel_ReynoldsAspenStand_StomatalResistance_sopron/\n   creating: /Users/erichsiao/Documents/Project/CyberGIS/job-supervisor-python-sdk/example/workspace/tmp5jlvuuxk/SummaModel_ReynoldsAspenStand_StomatalResistance_sopron/data/\n   creating: /Users/erichsiao/Documents/Project/CyberGIS/job-supervisor-python-sdk/example/workspace/tmp5jlvuuxk/SummaModel_ReynoldsAspenStand_StomatalResistance_sopron/data/forcingData/\n  inflating: /Users/erichsiao/Documents/Project/CyberGIS/job-supervisor-python-sdk/example/workspace/tmp5jlvuuxk/SummaModel_ReynoldsAspenStand_StomatalResistance_sopron/data/forcingData/forcing_above_aspen.nc  \n  inflating: /Users/erichsiao/Documents/Project/CyberGIS/job-supervisor-python-sdk/example/workspace/tmp5jlvuuxk/SummaModel_ReynoldsAspenStand_StomatalResistance_sopron/data/reynolds_geojson_latlon.geojson  \n   creating: /Users/erichsiao/Documents/Project/CyberGIS/job-supervisor-python-sdk/example/workspace/tmp5jlvuuxk/SummaModel_ReynoldsAspenStand_StomatalResistance_sopron/data/validationData/\n  inflating: /Users/erichsiao/Documents/Project/CyberGIS/job-supervisor-python-sdk/example/workspace/tmp5jlvuuxk/SummaModel_ReynoldsAspenStand_StomatalResistance_sopron/data/validationData/ReynoldsCreek_eddyFlux.nc\n  inflating: /Users/erichsiao/Documents/Project/CyberGIS/job-supervisor-python-sdk/example/workspace/tmp5jlvuuxk/SummaModel_ReynoldsAspenStand_StomatalResistance_sopron/installTestCases_local.sh  \n   creating: /Users/erichsiao/Documents/Project/CyberGIS/job-supervisor-python-sdk/example/workspace/tmp5jlvuuxk/SummaModel_ReynoldsAspenStand_StomatalResistance_sopron/output/\n   creating: /Users/erichsiao/Documents/Project/CyberGIS/job-supervisor-python-sdk/example/workspace/tmp5jlvuuxk/SummaModel_ReynoldsAspenStand_StomatalResistance_sopron/settings/\n  inflating: /Users/erichsiao/Documents/Project/CyberGIS/job-supervisor-python-sdk/example/workspace/tmp5jlvuuxk/SummaModel_ReynoldsAspenStand_StomatalResistance_sopron/settings/GENPARM.TBL  \n   creating: /Users/erichsiao/Documents/Project/CyberGIS/job-supervisor-python-sdk/example/workspace/tmp5jlvuuxk/SummaModel_ReynoldsAspenStand_StomatalResistance_sopron/settings/meta/\n  inflating: /Users/erichsiao/Documents/Project/CyberGIS/job-supervisor-python-sdk/example/workspace/tmp5jlvuuxk/SummaModel_ReynoldsAspenStand_StomatalResistance_sopron/settings/meta/dos2unix.sh  \n  inflating: /Users/erichsiao/Documents/Project/CyberGIS/job-supervisor-python-sdk/example/workspace/tmp5jlvuuxk/SummaModel_ReynoldsAspenStand_StomatalResistance_sopron/settings/meta/Model_Output.txt  \n  inflating: /Users/erichsiao/Documents/Project/CyberGIS/job-supervisor-python-sdk/example/workspace/tmp5jlvuuxk/SummaModel_ReynoldsAspenStand_StomatalResistance_sopron/settings/meta/summa_zBasinModelVarMeta.txt  \n  inflating: /Users/erichsiao/Documents/Project/CyberGIS/job-supervisor-python-sdk/example/workspace/tmp5jlvuuxk/SummaModel_ReynoldsAspenStand_StomatalResistance_sopron/settings/meta/summa_zBasinParamMeta.txt  \n  inflating: /Users/erichsiao/Documents/Project/CyberGIS/job-supervisor-python-sdk/example/workspace/tmp5jlvuuxk/SummaModel_ReynoldsAspenStand_StomatalResistance_sopron/settings/meta/summa_zCategoryMeta.txt  \n  inflating: /Users/erichsiao/Documents/Project/CyberGIS/job-supervisor-python-sdk/example/workspace/tmp5jlvuuxk/SummaModel_ReynoldsAspenStand_StomatalResistance_sopron/settings/meta/summa_zForceMeta.txt  \n  inflating: /Users/erichsiao/Documents/Project/CyberGIS/job-supervisor-python-sdk/example/workspace/tmp5jlvuuxk/SummaModel_ReynoldsAspenStand_StomatalResistance_sopron/settings/meta/summa_zLocalAttributeMeta.txt  \n  inflating: /Users/erichsiao/Documents/Project/CyberGIS/job-supervisor-python-sdk/example/workspace/tmp5jlvuuxk/SummaModel_ReynoldsAspenStand_StomatalResistance_sopron/settings/meta/summa_zLocalModelIndexMeta.txt  \n  inflating: /Users/erichsiao/Documents/Project/CyberGIS/job-supervisor-python-sdk/example/workspace/tmp5jlvuuxk/SummaModel_ReynoldsAspenStand_StomatalResistance_sopron/settings/meta/summa_zLocalModelVarMeta.txt  \n  inflating: /Users/erichsiao/Documents/Project/CyberGIS/job-supervisor-python-sdk/example/workspace/tmp5jlvuuxk/SummaModel_ReynoldsAspenStand_StomatalResistance_sopron/settings/meta/summa_zLocalParamMeta.txt  \n  inflating: /Users/erichsiao/Documents/Project/CyberGIS/job-supervisor-python-sdk/example/workspace/tmp5jlvuuxk/SummaModel_ReynoldsAspenStand_StomatalResistance_sopron/settings/meta/summa_zModelIndexMeta.txt  \n  inflating: /Users/erichsiao/Documents/Project/CyberGIS/job-supervisor-python-sdk/example/workspace/tmp5jlvuuxk/SummaModel_ReynoldsAspenStand_StomatalResistance_sopron/settings/meta/summa_zParamMeta.txt  \n  inflating: /Users/erichsiao/Documents/Project/CyberGIS/job-supervisor-python-sdk/example/workspace/tmp5jlvuuxk/SummaModel_ReynoldsAspenStand_StomatalResistance_sopron/settings/meta/summa_zTimeMeta.txt  \n  inflating: /Users/erichsiao/Documents/Project/CyberGIS/job-supervisor-python-sdk/example/workspace/tmp5jlvuuxk/SummaModel_ReynoldsAspenStand_StomatalResistance_sopron/settings/meta/var_lookup.f90  \n  inflating: /Users/erichsiao/Documents/Project/CyberGIS/job-supervisor-python-sdk/example/workspace/tmp5jlvuuxk/SummaModel_ReynoldsAspenStand_StomatalResistance_sopron/settings/MPTABLE.TBL  \n  inflating: /Users/erichsiao/Documents/Project/CyberGIS/job-supervisor-python-sdk/example/workspace/tmp5jlvuuxk/SummaModel_ReynoldsAspenStand_StomatalResistance_sopron/settings/SOILPARM.TBL  \n  inflating: /Users/erichsiao/Documents/Project/CyberGIS/job-supervisor-python-sdk/example/workspace/tmp5jlvuuxk/SummaModel_ReynoldsAspenStand_StomatalResistance_sopron/settings/summa_fileManager_riparianAspenSimpleResistance.txt  \n  inflating: /Users/erichsiao/Documents/Project/CyberGIS/job-supervisor-python-sdk/example/workspace/tmp5jlvuuxk/SummaModel_ReynoldsAspenStand_StomatalResistance_sopron/settings/summa_zBasinParamInfo.txt  \n  inflating: /Users/erichsiao/Documents/Project/CyberGIS/job-supervisor-python-sdk/example/workspace/tmp5jlvuuxk/SummaModel_ReynoldsAspenStand_StomatalResistance_sopron/settings/summa_zDecisions_riparianAspenSimpleResistance.txt  \n  inflating: /Users/erichsiao/Documents/Project/CyberGIS/job-supervisor-python-sdk/example/workspace/tmp5jlvuuxk/SummaModel_ReynoldsAspenStand_StomatalResistance_sopron/settings/summa_zForcingFileList_riparianAspen.txt  \n  inflating: /Users/erichsiao/Documents/Project/CyberGIS/job-supervisor-python-sdk/example/workspace/tmp5jlvuuxk/SummaModel_ReynoldsAspenStand_StomatalResistance_sopron/settings/summa_zForcingInfo_riparianAspen.txt  \n  inflating: /Users/erichsiao/Documents/Project/CyberGIS/job-supervisor-python-sdk/example/workspace/tmp5jlvuuxk/SummaModel_ReynoldsAspenStand_StomatalResistance_sopron/settings/summa_zInitialCond.nc  \n  inflating: /Users/erichsiao/Documents/Project/CyberGIS/job-supervisor-python-sdk/example/workspace/tmp5jlvuuxk/SummaModel_ReynoldsAspenStand_StomatalResistance_sopron/settings/summa_zLocalAttributes_riparianAspen.nc  \n  inflating: /Users/erichsiao/Documents/Project/CyberGIS/job-supervisor-python-sdk/example/workspace/tmp5jlvuuxk/SummaModel_ReynoldsAspenStand_StomatalResistance_sopron/settings/summa_zLocalParamInfo.txt  \n  inflating: /Users/erichsiao/Documents/Project/CyberGIS/job-supervisor-python-sdk/example/workspace/tmp5jlvuuxk/SummaModel_ReynoldsAspenStand_StomatalResistance_sopron/settings/summa_zParamTrial_riparianAspen.nc  \n  inflating: /Users/erichsiao/Documents/Project/CyberGIS/job-supervisor-python-sdk/example/workspace/tmp5jlvuuxk/SummaModel_ReynoldsAspenStand_StomatalResistance_sopron/settings/VEGPARM.TBL  \nUnzipping Done\n"
    }
   ],
   "source": [
    "import tempfile\n",
    "\n",
    "#Unzip model file\n",
    "model_folder_name = \"SummaModel_ReynoldsAspenStand_StomatalResistance_sopron\"\n",
    "content_folder = os.path.join(base_dir ,\"{}/{}/data/contents\".format(resource_id, resource_id))\n",
    "workspace_dir = os.path.join(base_dir, 'workspace')\n",
    "!mkdir -p {workspace_dir}\n",
    "unzip_dir = tempfile.mkdtemp(dir=workspace_dir)\n",
    "!cd {content_folder} && unzip -o {model_folder_name}.zip -d {unzip_dir}\n",
    "print(\"Unzipping Done\")"
   ]
  },
  {
   "cell_type": "code",
   "execution_count": 5,
   "metadata": {
    "tags": []
   },
   "outputs": [
    {
     "output_type": "stream",
     "name": "stdout",
     "text": "TestCases installed\n"
    }
   ],
   "source": [
    "model_source_folder_path = os.path.join(unzip_dir, model_folder_name)\n",
    "!cd {model_source_folder_path} && chmod +x ./installTestCases_local.sh\n",
    "!cd {model_source_folder_path} && ./installTestCases_local.sh"
   ]
  },
  {
   "cell_type": "code",
   "execution_count": 6,
   "metadata": {
    "tags": []
   },
   "outputs": [
    {
     "output_type": "stream",
     "name": "stdout",
     "text": "/Users/erichsiao/Documents/Project/CyberGIS/job-supervisor-python-sdk/example/workspace/tmp5jlvuuxk/SummaModel_ReynoldsAspenStand_StomatalResistance_sopron/settings/summa_zParamTrial_riparianAspen.nc\n"
    }
   ],
   "source": [
    "# Create a empty ParamTrial.nc file (required by parameter ensemble)\n",
    "import netCDF4 as nc\n",
    "name = os.path.join(model_source_folder_path, 'settings/summa_zParamTrial_riparianAspen.nc')\n",
    "print(name)\n",
    "param_trial = nc.Dataset(name, \"w\", format=\"NETCDF3_CLASSIC\")\n",
    "param_trial.createDimension(\"hru\", 1)\n",
    "param_trial.close()"
   ]
  },
  {
   "cell_type": "code",
   "execution_count": 7,
   "metadata": {
    "tags": []
   },
   "outputs": [
    {
     "output_type": "stream",
     "name": "stdout",
     "text": "Number of ensemble runs: 75\n{\n    \"++BallBerry++rootDistExp=0.01++summerLAI=0.01++\": {\n        \"attributes\": {},\n        \"decisions\": {\n            \"stomResist\": \"BallBerry\"\n        },\n        \"parameters\": {\n            \"rootDistExp\": 0.01,\n            \"summerLAI\": 0.01\n        },\n        \"trial_parameters\": {}\n    },\n    \"++BallBerry++rootDistExp=0.01++summerLAI=2.01++\": {\n        \"attributes\": {},\n        \"decisions\": {\n            \"stomResist\": \"BallBerry\"\n        },\n        \"parameters\": {\n            \"rootDistExp\": 0.01,\n            \"summerLAI\": 2.01\n        },\n        \"trial_parameters\": {}\n    },\n    \"++BallBerry++rootDistExp=0.01++summerLAI=4.01++\": {\n        \"attributes\": {},\n        \"decisions\": {\n            \"stomResist\": \"BallBerry\"\n        },\n        \"parameters\": {\n            \"rootDistExp\": 0.01,\n    \n...\n"
    }
   ],
   "source": [
    "import numpy as np\n",
    "import json\n",
    "from pysumma import ensemble\n",
    "\n",
    "def safe_arange(start, stop, step):\n",
    "    a = np.arange(start, stop, step)\n",
    "    result =[]\n",
    "    for i in a:\n",
    "        par = round(i, 10)\n",
    "        result = np.append(result, par)\n",
    "    return result\n",
    "\n",
    "# create ensemble\n",
    "# different parameterizations\n",
    "decision_options = {\n",
    "    \"stomResist\": [\"BallBerry\", \"Jarvis\", \"simpleResistance\"]\n",
    "}\n",
    "# different parameters\n",
    "param_options = {\n",
    "   'rootDistExp': safe_arange(0.01, 1.00, 0.20),\n",
    "   'summerLAI': safe_arange(0.01, 10.00, 2.00)\n",
    "}\n",
    "\n",
    "config = ensemble.total_product(dec_conf=decision_options, param_conf=param_options)\n",
    "\n",
    "# save ensemble info to json file\n",
    "with open(os.path.join(model_source_folder_path, 'summa_options.json'), 'w') as outfile:\n",
    "    json.dump(config, outfile)\n",
    "\n",
    "# check ensemble parameters    \n",
    "print(\"Number of ensemble runs: {}\".format(len(config)))\n",
    "print(json.dumps(config, indent=4, sort_keys=True)[:800])\n",
    "print(\"...\")"
   ]
  },
  {
   "cell_type": "code",
   "execution_count": 8,
   "metadata": {
    "tags": []
   },
   "outputs": [
    {
     "output_type": "stream",
     "name": "stdout",
     "text": "📃 created constructor file [job_supervisor_constructor_summa.json]\n👉 use [User(\"summa\", useFileConstructor=True)] to create User interface from constructor file\n"
    }
   ],
   "source": [
    "from job_supervisor_client import *\n",
    "\n",
    "communitySummaUser = User('summa', isJupyter=True, url=\"localhost\", port=3000)"
   ]
  },
  {
   "cell_type": "code",
   "execution_count": 9,
   "metadata": {
    "tags": []
   },
   "outputs": [
    {
     "output_type": "display_data",
     "data": {
      "text/plain": "<IPython.core.display.HTML object>",
      "text/html": "<table>\n<thead>\n<tr><th style=\"text-align:left\">name  </th><th style=\"text-align:left\">ip                        </th><th style=\"text-align:left\">port  </th><th style=\"text-align:left\">isCommunityAccount  </th><th style=\"text-align:left\">useUploadedFile  </th><th style=\"text-align:left\">uploadedFileMustHave                                                             </th></tr>\n</thead>\n<tbody>\n<tr><td style=\"text-align:left\">summa </td><td style=\"text-align:left\">keeling.earth.illinois.edu</td><td style=\"text-align:left\">22    </td><td style=\"text-align:left\">True                </td><td style=\"text-align:left\">True             </td><td style=\"text-align:left\">[&#x27;summa_options.json&#x27;, &#x27;installTestCases_local.sh&#x27;, &#x27;data&#x27;, &#x27;output&#x27;, &#x27;settings&#x27;]</td></tr>\n<tr><td style=\"text-align:left\">spark </td><td style=\"text-align:left\">hadoop01.cigi.illinois.edu</td><td style=\"text-align:left\">50022 </td><td style=\"text-align:left\">False               </td><td style=\"text-align:left\">True             </td><td style=\"text-align:left\">[&#x27;index.py&#x27;]                                                                     </td></tr>\n</tbody>\n</table>"
     },
     "metadata": {}
    }
   ],
   "source": [
    "communitySummaUser.destinations()"
   ]
  },
  {
   "cell_type": "code",
   "execution_count": 10,
   "metadata": {},
   "outputs": [],
   "source": [
    "communitySummaJob = communitySummaUser.job() # create new job"
   ]
  },
  {
   "cell_type": "code",
   "execution_count": 11,
   "metadata": {},
   "outputs": [
    {
     "output_type": "execute_result",
     "data": {
      "text/plain": "{'file': '1599621891bIQX'}"
     },
     "metadata": {},
     "execution_count": 11
    }
   ],
   "source": [
    "communitySummaJob.upload(model_source_folder_path)"
   ]
  },
  {
   "cell_type": "code",
   "execution_count": 12,
   "metadata": {
    "tags": []
   },
   "outputs": [
    {
     "output_type": "stream",
     "name": "stdout",
     "text": "✅ job registered with ID: 1599621894O9Op\n"
    },
    {
     "output_type": "execute_result",
     "data": {
      "text/plain": "<job_supervisor_client.Job.Job at 0x1160674d0>"
     },
     "metadata": {},
     "execution_count": 12
    }
   ],
   "source": [
    "communitySummaJob.submit()"
   ]
  },
  {
   "cell_type": "code",
   "execution_count": 13,
   "metadata": {
    "scrolled": true,
    "tags": []
   },
   "outputs": [
    {
     "output_type": "stream",
     "name": "stdout",
     "text": "📮Job ID: 1599621894O9Op\n📍Destination: summa\n\n"
    },
    {
     "output_type": "display_data",
     "data": {
      "text/plain": "<IPython.core.display.HTML object>",
      "text/html": "<table>\n<thead>\n<tr><th>types              </th><th>message                                                                           </th><th>time                    </th></tr>\n</thead>\n<tbody>\n<tr><td>JOB_QUEUED         </td><td>job [1599621894O9Op] is queued, waiting for registration                          </td><td>2020-09-09T03:24:54.185Z</td></tr>\n<tr><td>JOB_REGISTERED     </td><td>job [1599621894O9Op] is registered with the supervisor, waiting for initialization</td><td>2020-09-09T03:24:54.768Z</td></tr>\n<tr><td>SUMMA_HPC_CONNECTED</td><td>connected to HPC                                                                  </td><td>2020-09-09T03:26:13.010Z</td></tr>\n<tr><td>SUMMA_HPC_CONNECTED</td><td>connected to HPC                                                                  </td><td>2020-09-09T03:26:24.620Z</td></tr>\n<tr><td>SUMMA_HPC_SUBMITTED</td><td>submitted SUMMA job to HPC                                                        </td><td>2020-09-09T03:26:24.620Z</td></tr>\n<tr><td>JOB_INITIALIZED    </td><td>initialized SUMMA job in HPC job queue with remote_id 3603115                     </td><td>2020-09-09T03:26:24.620Z</td></tr>\n<tr><td>JOB_ENDED          </td><td>SUMMA job with remote_id 3603115 completed                                        </td><td>2020-09-09T03:26:29.890Z</td></tr>\n</tbody>\n</table>"
     },
     "metadata": {}
    }
   ],
   "source": [
    "communitySummaJob.events(liveOutput=True)"
   ]
  },
  {
   "cell_type": "code",
   "execution_count": 16,
   "metadata": {},
   "outputs": [
    {
     "output_type": "execute_result",
     "data": {
      "text/plain": "{'1599621894O9Op': [{'type': 'JOB_QUEUED',\n   'message': 'job [1599621894O9Op] is queued, waiting for registration',\n   'at': '2020-09-09T03:24:54.185Z'},\n  {'type': 'JOB_REGISTERED',\n   'message': 'job [1599621894O9Op] is registered with the supervisor, waiting for initialization',\n   'at': '2020-09-09T03:24:54.768Z'},\n  {'type': 'SUMMA_HPC_CONNECTED',\n   'message': 'connected to HPC',\n   'at': '2020-09-09T03:26:13.010Z'},\n  {'type': 'SUMMA_HPC_CONNECTED',\n   'message': 'connected to HPC',\n   'at': '2020-09-09T03:26:24.620Z'},\n  {'type': 'SUMMA_HPC_SUBMITTED',\n   'message': 'submitted SUMMA job to HPC',\n   'at': '2020-09-09T03:26:24.620Z'},\n  {'type': 'JOB_INITIALIZED',\n   'message': 'initialized SUMMA job in HPC job queue with remote_id 3603115',\n   'at': '2020-09-09T03:26:24.620Z'},\n  {'type': 'JOB_ENDED',\n   'message': 'SUMMA job with remote_id 3603115 completed',\n   'at': '2020-09-09T03:26:29.890Z'}]}"
     },
     "metadata": {},
     "execution_count": 16
    }
   ],
   "source": [
    "communitySummaUser.events() # get all jobs under this user"
   ]
  },
  {
   "cell_type": "code",
   "execution_count": 17,
   "metadata": {},
   "outputs": [],
   "source": [
    "import os\n",
    "\n",
    "communitySummaJob.download(os.getcwd())"
   ]
  },
  {
   "cell_type": "code",
   "execution_count": 19,
   "metadata": {},
   "outputs": [
    {
     "output_type": "execute_result",
     "data": {
      "text/plain": "[{'type': 'JOB_QUEUED',\n  'message': 'job [1599621894O9Op] is queued, waiting for registration',\n  'at': '2020-09-09T03:24:54.185Z'},\n {'type': 'JOB_REGISTERED',\n  'message': 'job [1599621894O9Op] is registered with the supervisor, waiting for initialization',\n  'at': '2020-09-09T03:24:54.768Z'},\n {'type': 'SUMMA_HPC_CONNECTED',\n  'message': 'connected to HPC',\n  'at': '2020-09-09T03:26:13.010Z'},\n {'type': 'SUMMA_HPC_CONNECTED',\n  'message': 'connected to HPC',\n  'at': '2020-09-09T03:26:24.620Z'},\n {'type': 'SUMMA_HPC_SUBMITTED',\n  'message': 'submitted SUMMA job to HPC',\n  'at': '2020-09-09T03:26:24.620Z'},\n {'type': 'JOB_INITIALIZED',\n  'message': 'initialized SUMMA job in HPC job queue with remote_id 3603115',\n  'at': '2020-09-09T03:26:24.620Z'},\n {'type': 'JOB_ENDED',\n  'message': 'SUMMA job with remote_id 3603115 completed',\n  'at': '2020-09-09T03:26:29.890Z'}]"
     },
     "metadata": {},
     "execution_count": 19
    }
   ],
   "source": [
    "communitySummaJob2 = communitySummaUser.job('1599621894O9Op') # recreate job obj\n",
    "communitySummaJob2.events()"
   ]
  }
 ],
 "metadata": {
  "kernelspec": {
   "display_name": "Python 3.7.4 64-bit ('base': conda)",
   "language": "python",
   "name": "python37464bitbasecondab8af6ecaa77846fd96103654a7fd0c82"
  },
  "language_info": {
   "codemirror_mode": {
    "name": "ipython",
    "version": 3
   },
   "file_extension": ".py",
   "mimetype": "text/x-python",
   "name": "python",
   "nbconvert_exporter": "python",
   "pygments_lexer": "ipython3",
   "version": "3.7.4-final"
  }
 },
 "nbformat": 4,
 "nbformat_minor": 4
}
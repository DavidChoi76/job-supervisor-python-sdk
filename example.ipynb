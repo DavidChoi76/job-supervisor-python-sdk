{
 "cells": [
  {
   "cell_type": "code",
   "execution_count": 4,
   "metadata": {},
   "outputs": [],
   "source": [
    "from job_supervisor_client import *\n",
    "\n",
    "communitySummaJob = Job('summa', url=\"localhost\", port=3000, isJupyter=True)"
   ]
  },
  {
   "cell_type": "code",
   "execution_count": 5,
   "metadata": {},
   "outputs": [
    {
     "name": "stdout",
     "output_type": "stream",
     "text": [
      "✅ job registered with ID: 1597718558amMh\n"
     ]
    },
    {
     "data": {
      "text/plain": [
       "<job_supervisor_client.Job.Job at 0x104486890>"
      ]
     },
     "execution_count": 5,
     "metadata": {},
     "output_type": "execute_result"
    }
   ],
   "source": [
    "communitySummaJob.submit()"
   ]
  },
  {
   "cell_type": "code",
   "execution_count": 6,
   "metadata": {
    "scrolled": true
   },
   "outputs": [
    {
     "name": "stdout",
     "output_type": "stream",
     "text": [
      "📮Job ID: 1597718558amMh\n",
      "📍Destination: summa\n",
      "\n"
     ]
    },
    {
     "data": {
      "text/html": [
       "<table>\n",
       "<thead>\n",
       "<tr><th>types                     </th><th>message                                                                           </th><th>time                    </th></tr>\n",
       "</thead>\n",
       "<tbody>\n",
       "<tr><td>JOB_QUEUED                </td><td>job [1597718558amMh] is queued, waiting for registration                          </td><td>2020-08-18T02:42:38.332Z</td></tr>\n",
       "<tr><td>JOB_REGISTERED            </td><td>job [1597718558amMh] is registered with the supervisor, waiting for initialization</td><td>2020-08-18T02:42:38.365Z</td></tr>\n",
       "<tr><td>SUMMA_RESOURCES_DOWNLOADED</td><td>downloaded resources from Hydroshare for SUMMA                                    </td><td>2020-08-18T02:42:48.395Z</td></tr>\n",
       "<tr><td>SUMMA_HPC_CONNECTED       </td><td>connected to HPC                                                                  </td><td>2020-08-18T02:42:48.395Z</td></tr>\n",
       "<tr><td>SUMMA_HPC_SUBMITTED       </td><td>submitted SUMMA job to HPC                                                        </td><td>2020-08-18T02:42:48.395Z</td></tr>\n",
       "<tr><td>JOB_INITIALIZED           </td><td>initialized SUMMA job in HPC job queue with remote_id 3593739                     </td><td>2020-08-18T02:42:48.395Z</td></tr>\n",
       "<tr><td>JOB_ENDED                 </td><td>SUMMA job with remote_id 3593739 completed                                        </td><td>2020-08-18T02:43:03.922Z</td></tr>\n",
       "</tbody>\n",
       "</table>"
      ],
      "text/plain": [
       "<IPython.core.display.HTML object>"
      ]
     },
     "metadata": {},
     "output_type": "display_data"
    }
   ],
   "source": [
    "communitySummaJob.events(liveOutput=True)"
   ]
  },
  {
   "cell_type": "code",
   "execution_count": 7,
   "metadata": {},
   "outputs": [],
   "source": [
    "import os\n",
    "\n",
    "communitySummaJob.download(os.getcwd())"
   ]
  }
 ],
 "metadata": {
  "kernelspec": {
   "display_name": "Python 3",
   "language": "python",
   "name": "python3"
  },
  "language_info": {
   "codemirror_mode": {
    "name": "ipython",
    "version": 3
   },
   "file_extension": ".py",
   "mimetype": "text/x-python",
   "name": "python",
   "nbconvert_exporter": "python",
   "pygments_lexer": "ipython3",
   "version": "3.7.4"
  }
 },
 "nbformat": 4,
 "nbformat_minor": 4
}
